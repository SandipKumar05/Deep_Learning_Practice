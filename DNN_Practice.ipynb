{
 "cells": [
  {
   "cell_type": "code",
   "execution_count": 1,
   "metadata": {
    "collapsed": true
   },
   "outputs": [],
   "source": [
    "import tensorflow as tf\n",
    "import numpy as np"
   ]
  },
  {
   "cell_type": "code",
   "execution_count": 13,
   "metadata": {},
   "outputs": [
    {
     "name": "stdout",
     "output_type": "stream",
     "text": [
      "[[  9.10000038  10.15999985]\n",
      " [  0.           0.        ]\n",
      " [ 38.4600029   71.69999695]]\n"
     ]
    }
   ],
   "source": [
    "#implement simple relu layer in the network\n",
    "hidden_layer_weights = [\n",
    "    [0.1, 0.2, 0.4],\n",
    "    [0.4, 0.6, 0.6],\n",
    "    [0.5, 0.9, 0.1],\n",
    "    [0.8, 0.2, 0.8]]\n",
    "out_weights = [\n",
    "    [0.1, 0.6],\n",
    "    [0.2, 0.1],\n",
    "    [0.7, 0.9]]\n",
    "# weight\n",
    "hidden_weight = tf.Variable(hidden_layer_weights)\n",
    "out_weights = tf.Variable(out_weights)\n",
    "\n",
    "#bias\n",
    "hidden_bias = tf.Variable(tf.zeros(3))\n",
    "out_bias = tf.Variable(tf.zeros(2))\n",
    "\n",
    "weight = [hidden_weight, out_weights]\n",
    "bias = [hidden_bias, out_bias]\n",
    "# Input\n",
    "features = tf.Variable([[1.0, 2.0, 3.0, 4.0], \n",
    "                        [-1.0, -2.0, -3.0, -4.0], \n",
    "                        [11.0, 12.0, 13.0, 14.0]])\n",
    "\n",
    "hidden_out = tf.add(tf.matmul(features, weight[0]), bias[0])\n",
    "relu_out = tf.nn.relu(hidden_out)\n",
    "drop_out = tf.nn.dropout(relu_out, keep_prob = 0.5)\n",
    "logits = tf.add(tf.matmul(drop_out, weight[1]), bias[1])\n",
    "\n",
    "with tf.Session() as sess:\n",
    "    sess.run(tf.global_variables_initializer())\n",
    "    print (sess.run(logits))"
   ]
  },
  {
   "cell_type": "code",
   "execution_count": null,
   "metadata": {
    "collapsed": true
   },
   "outputs": [],
   "source": []
  }
 ],
 "metadata": {
  "kernelspec": {
   "display_name": "Python 3",
   "language": "python",
   "name": "python3"
  },
  "language_info": {
   "codemirror_mode": {
    "name": "ipython",
    "version": 3
   },
   "file_extension": ".py",
   "mimetype": "text/x-python",
   "name": "python",
   "nbconvert_exporter": "python",
   "pygments_lexer": "ipython3",
   "version": "3.5.2"
  },
  "widgets": {
   "state": {},
   "version": "1.1.2"
  }
 },
 "nbformat": 4,
 "nbformat_minor": 2
}
