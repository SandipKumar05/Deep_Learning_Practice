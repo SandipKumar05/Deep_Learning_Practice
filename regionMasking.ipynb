import matplotlib.image as mpimg
import matplotlib.pyplot as plt
import numpy as np 

image = mpimg.imread('test.png')
plt.imshow(image)